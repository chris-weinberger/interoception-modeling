{
 "cells": [
  {
   "cell_type": "markdown",
   "metadata": {},
   "source": [
    "## RL/Bayesian Model for Interoceptive Inference and Emotion Regulation\n"
   ]
  },
  {
   "cell_type": "markdown",
   "metadata": {},
   "source": [
    "We have:\n",
    "    \n",
    "$Interoceptive(t) = A * interoceptive(t-1) + B * (body(t) - PredictiveModel(t-1))$\n",
    "\n",
    "$Interoceptive(t) = A * interoceptive(t-1) + B * body(t) - B * PredictiveModel(t-1)$\n",
    "\n",
    "Predictive model can be based on inputs from salience and executive networks:\n",
    "$Interoceptive(t) = A * interoceptive(t-1) + B * body(t) - B * (C*Salience(t-1) + D*Executive(t-1))$\n",
    "\n",
    "B gets absorbed into constants:\n",
    "\n",
    "$Interoceptive(t) = A * interoceptive(t-1) + B * body(t) + C*Salience(t-1) + D*Executive(t-1)$"
   ]
  },
  {
   "cell_type": "markdown",
   "metadata": {},
   "source": [
    "#### Further details\n",
    "\n",
    "+ Executive system has goal of maintaining system homeostasis, and thus dynamically adjusts weigths\n",
    "+ Insula wants to minimize prediction error (between body signal and generative model prediction)\n",
    "+ Amygdala recognizes threat and alerts body, but doesn't let salience get too high (this would mean we aren't responding to the perceived threat)\n",
    "\n"
   ]
  },
  {
   "cell_type": "code",
   "execution_count": null,
   "metadata": {},
   "outputs": [],
   "source": [
    "import numpy as np\n",
    "import matplotlib as plt\n",
    "import random\n",
    "import gym\n",
    "from gym import spaces\n",
    "\n"
   ]
  }
 ],
 "metadata": {
  "kernelspec": {
   "display_name": "Python 3",
   "language": "python",
   "name": "python3"
  },
  "language_info": {
   "codemirror_mode": {
    "name": "ipython",
    "version": 3
   },
   "file_extension": ".py",
   "mimetype": "text/x-python",
   "name": "python",
   "nbconvert_exporter": "python",
   "pygments_lexer": "ipython3",
   "version": "3.7.4"
  }
 },
 "nbformat": 4,
 "nbformat_minor": 2
}
